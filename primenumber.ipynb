{
  "nbformat": 4,
  "nbformat_minor": 0,
  "metadata": {
    "colab": {
      "name": "primenumber.ipynb",
      "provenance": [],
      "authorship_tag": "ABX9TyPu5gCBPFe21q29h/gq6St+",
      "include_colab_link": true
    },
    "kernelspec": {
      "name": "python3",
      "display_name": "Python 3"
    }
  },
  "cells": [
    {
      "cell_type": "markdown",
      "metadata": {
        "id": "view-in-github",
        "colab_type": "text"
      },
      "source": [
        "<a href=\"https://colab.research.google.com/github/mehmettunc55/python-CSS/blob/main/primenumber.ipynb\" target=\"_parent\"><img src=\"https://colab.research.google.com/assets/colab-badge.svg\" alt=\"Open In Colab\"/></a>"
      ]
    },
    {
      "cell_type": "code",
      "metadata": {
        "colab": {
          "base_uri": "https://localhost:8080/"
        },
        "id": "UNH4iC68tHh0",
        "outputId": "a04e3c4b-7d55-4086-e2c2-d6281303ebaf"
      },
      "source": [
        "i = int(input('please enter a number: '))\r\n",
        "if i%2==0 or i%3==0 or  i%5==0 or i%7==0:\r\n",
        "    print(f' {i} is not a prime number')\r\n",
        "else:\r\n",
        "    print(f' {i} is a prime number')"
      ],
      "execution_count": 1,
      "outputs": [
        {
          "output_type": "stream",
          "text": [
            "please enter a number: 19\n",
            " 19 is a prime number\n"
          ],
          "name": "stdout"
        }
      ]
    }
  ]
}
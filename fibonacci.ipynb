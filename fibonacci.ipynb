{
  "nbformat": 4,
  "nbformat_minor": 0,
  "metadata": {
    "colab": {
      "name": "fibonacci.ipynb",
      "provenance": [],
      "authorship_tag": "ABX9TyPpFNkLdvSM/c0uYoFrNxaq",
      "include_colab_link": true
    },
    "kernelspec": {
      "name": "python3",
      "display_name": "Python 3"
    }
  },
  "cells": [
    {
      "cell_type": "markdown",
      "metadata": {
        "id": "view-in-github",
        "colab_type": "text"
      },
      "source": [
        "<a href=\"https://colab.research.google.com/github/mehmettunc55/python-CSS/blob/main/fibonacci.ipynb\" target=\"_parent\"><img src=\"https://colab.research.google.com/assets/colab-badge.svg\" alt=\"Open In Colab\"/></a>"
      ]
    },
    {
      "cell_type": "code",
      "metadata": {
        "colab": {
          "base_uri": "https://localhost:8080/"
        },
        "id": "C3Y3_IrDU3x-",
        "outputId": "53629d34-e32f-4c16-8596-cf973eb39288"
      },
      "source": [
        "x, y=0, 1\r\n",
        "fibonacci = []\r\n",
        "while y<=55:\r\n",
        "    fibonacci.append(y)\r\n",
        "    x, y = y, x+y\r\n",
        "print('fibonacci -->', fibonacci)"
      ],
      "execution_count": 1,
      "outputs": [
        {
          "output_type": "stream",
          "text": [
            "fibonacci --> [1, 1, 2, 3, 5, 8, 13, 21, 34, 55]\n"
          ],
          "name": "stdout"
        }
      ]
    }
  ]
}
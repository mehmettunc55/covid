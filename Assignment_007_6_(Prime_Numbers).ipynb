{
  "nbformat": 4,
  "nbformat_minor": 0,
  "metadata": {
    "colab": {
      "name": "Assignment - 007/6 (Prime Numbers).ipynb",
      "provenance": [],
      "authorship_tag": "ABX9TyPMJHxOHRCOhpK01t6Y7D19",
      "include_colab_link": true
    },
    "kernelspec": {
      "name": "python3",
      "display_name": "Python 3"
    }
  },
  "cells": [
    {
      "cell_type": "markdown",
      "metadata": {
        "id": "view-in-github",
        "colab_type": "text"
      },
      "source": [
        "<a href=\"https://colab.research.google.com/github/mehmettunc55/python-CSS/blob/main/Assignment_007_6_(Prime_Numbers).ipynb\" target=\"_parent\"><img src=\"https://colab.research.google.com/assets/colab-badge.svg\" alt=\"Open In Colab\"/></a>"
      ]
    },
    {
      "cell_type": "code",
      "metadata": {
        "colab": {
          "base_uri": "https://localhost:8080/"
        },
        "id": "4P_wQZLwz0MN",
        "outputId": "d591d26d-a092-493d-ff9a-ac5276dc39b2"
      },
      "source": [
        "n = 100\r\n",
        "b = [2, 3, 5, 7]\r\n",
        "for i in range(2, n+1):\r\n",
        "  if i%b[0]!=0 and i%b[1]!=0 and i%b[2]!=0 and i%b[3]!=0:\r\n",
        "    b.append(i)\r\n",
        "print(b)\r\n"
      ],
      "execution_count": 1,
      "outputs": [
        {
          "output_type": "stream",
          "text": [
            "[2, 3, 5, 7, 11, 13, 17, 19, 23, 29, 31, 37, 41, 43, 47, 53, 59, 61, 67, 71, 73, 79, 83, 89, 97]\n"
          ],
          "name": "stdout"
        }
      ]
    }
  ]
}
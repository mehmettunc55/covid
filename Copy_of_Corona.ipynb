{
  "nbformat": 4,
  "nbformat_minor": 0,
  "metadata": {
    "colab": {
      "name": "Copy of Corona.ipynb",
      "provenance": [],
      "collapsed_sections": [],
      "authorship_tag": "ABX9TyNDUCEypBC9p7LHaalhflQ4",
      "include_colab_link": true
    },
    "kernelspec": {
      "name": "python3",
      "display_name": "Python 3"
    }
  },
  "cells": [
    {
      "cell_type": "markdown",
      "metadata": {
        "id": "view-in-github",
        "colab_type": "text"
      },
      "source": [
        "<a href=\"https://colab.research.google.com/github/mehmettunc55/covid/blob/main/Copy_of_Corona.ipynb\" target=\"_parent\"><img src=\"https://colab.research.google.com/assets/colab-badge.svg\" alt=\"Open In Colab\"/></a>"
      ]
    },
    {
      "cell_type": "code",
      "metadata": {
        "id": "4Z6dFY2G1hkC"
      },
      "source": [
        "age = input(\"Are you a cigarette addict older than 75 years old? (YES/NO) :\").strip().title()\r\n",
        "chronic = input(\"Do you have a severe chronic disease? (YES/NO) :\").strip().title()\r\n",
        "immune = input(\"Is your immune system too weak? (YES/NO) :\").strip().title()\r\n",
        "\r\n",
        "if age == \"Yes\" or chronic == \"Yes\" or immune == \"Yes\":\r\n",
        "  print(\"You are in risky group\")\r\n",
        "else:\r\n",
        "  print(\"You are not in risky group\")"
      ],
      "execution_count": null,
      "outputs": []
    },
    {
      "cell_type": "code",
      "metadata": {
        "id": "ohu6kOv13Gqs"
      },
      "source": [
        ""
      ],
      "execution_count": null,
      "outputs": []
    }
  ]
}
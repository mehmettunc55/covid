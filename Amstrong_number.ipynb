{
  "nbformat": 4,
  "nbformat_minor": 0,
  "metadata": {
    "colab": {
      "name": "Amstrong_number.ipynb",
      "provenance": [],
      "authorship_tag": "ABX9TyObuRY3DCYO93IGIf/mZUFs",
      "include_colab_link": true
    },
    "kernelspec": {
      "name": "python3",
      "display_name": "Python 3"
    }
  },
  "cells": [
    {
      "cell_type": "markdown",
      "metadata": {
        "id": "view-in-github",
        "colab_type": "text"
      },
      "source": [
        "<a href=\"https://colab.research.google.com/github/mehmettunc55/python-CSS/blob/main/Amstrong_number.ipynb\" target=\"_parent\"><img src=\"https://colab.research.google.com/assets/colab-badge.svg\" alt=\"Open In Colab\"/></a>"
      ]
    },
    {
      "cell_type": "code",
      "metadata": {
        "id": "2b-rqdzBJHmK"
      },
      "source": [
        "num = input('Please enter a number : ')\r\n",
        "summon=0\r\n",
        "if int(num) <= 0:\r\n",
        "  print('It is an invalid entry. Do not use non-numeric, float, or negative values!')\r\n",
        "elif int(num) > 0:\r\n",
        "  for i in list(num):\r\n",
        "    summon += int(i)**len(num)\r\n",
        "  if summon == int(num):\r\n",
        "    print (f'{num} is an Amstrong Number')\r\n",
        "  else:\r\n",
        "    print (f'{num} is NOT an Amstrong Number')"
      ],
      "execution_count": null,
      "outputs": []
    }
  ]
}